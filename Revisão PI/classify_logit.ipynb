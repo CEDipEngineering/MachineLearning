{
 "cells": [
  {
   "cell_type": "markdown",
   "source": [
    "**Atividade**\r\n",
    "\r\n",
    "Construa um classificador por regressão logística para separar as flores do tipo 'Iris Virginica' das demais usando as características 'petal length (cm)' e 'petal width (cm)'. Como resultado final, apresente:\r\n",
    "\r\n",
    "- Acurácia do classificador no conjunto de testes.\r\n",
    "- Curva ROC e respectiva área.\r\n",
    "- Um diagrama ilustrando a probabilidade da classe positiva. \r\n",
    "    - Dica: veja https://matplotlib.org/gallery/images_contours_and_fields/contour_demo.html\r\n",
    "\r\n",
    "Use seu arsenal de ferramentas de validação para encontrar o melhor modelo."
   ],
   "metadata": {}
  },
  {
   "cell_type": "code",
   "execution_count": null,
   "source": [
    "from sklearn import datasets\r\n",
    "import pandas as pd\r\n",
    "from sklearn.model_selection import cross_val_score\r\n",
    "from sklearn.metrics import roc_curve, roc_auc_score, confusion_matrix, precision_recall_curve\r\n",
    "from sklearn.linear_model import LogisticRegression\r\n",
    "from sklearn.model_selection import train_test_split\r\n",
    "from sklearn.pipeline import Pipeline\r\n",
    "from sklearn.preprocessing import StandardScaler\r\n",
    "from sklearn.model_selection import cross_val_predict\r\n",
    "import matplotlib.pyplot as plt\r\n",
    "\r\n",
    "RANDOM_SEED = 42\r\n",
    "\r\n",
    "iris = datasets.load_iris()\r\n",
    "df = pd.DataFrame(columns=iris.feature_names,data=iris.data).drop([\"sepal length (cm)\",\"sepal width (cm)\"], axis=1) # monta dataframe\r\n",
    "df[\"target\"] = iris.target == 2 # coloca classes\r\n",
    "df"
   ],
   "outputs": [],
   "metadata": {}
  },
  {
   "cell_type": "code",
   "execution_count": null,
   "source": [
    "train_set, test_set = train_test_split(\r\n",
    "    df,\r\n",
    "    test_size=0.2,\r\n",
    "    random_state=RANDOM_SEED,\r\n",
    ")\r\n",
    "X_train = train_set.drop([\"target\"], axis=1)\r\n",
    "y_train = train_set[\"target\"]\r\n",
    "X_test = test_set.drop([\"target\"], axis=1)\r\n",
    "y_test = test_set[\"target\"]\r\n",
    "\r\n",
    "std_scaler = StandardScaler()\r\n",
    "\r\n",
    "lr_classifier = Pipeline([\r\n",
    "    ('std_scaler', std_scaler),\r\n",
    "    ('logit_reg', LogisticRegression()),\r\n",
    "])\r\n",
    "\r\n",
    "res = cross_val_score(\r\n",
    "    lr_classifier,\r\n",
    "    X_train,\r\n",
    "    y_train,\r\n",
    "    cv=4,\r\n",
    "    scoring=\"accuracy\",\r\n",
    "    n_jobs=-1,\r\n",
    ")\r\n",
    "res"
   ],
   "outputs": [],
   "metadata": {}
  },
  {
   "cell_type": "code",
   "execution_count": null,
   "source": [
    "y_train_pred = cross_val_predict(lr_classifier, X_train, y_train, cv=4, n_jobs=-1)\r\n",
    "mat = confusion_matrix(y_train, y_train_pred)\r\n",
    "mat"
   ],
   "outputs": [],
   "metadata": {}
  },
  {
   "cell_type": "code",
   "execution_count": null,
   "source": [
    "y_scores = cross_val_predict(\r\n",
    "    lr_classifier,\r\n",
    "    X_train,\r\n",
    "    y_train,\r\n",
    "    cv=4,\r\n",
    "    method=\"decision_function\",\r\n",
    "    n_jobs=-1,\r\n",
    ")\r\n",
    "\r\n",
    "fpr, tpr, thresholds = roc_curve(y_train, y_scores)\r\n",
    "\r\n",
    "plt.figure(figsize=(8, 6))\r\n",
    "plt.plot(fpr, tpr, linewidth=2)\r\n",
    "plt.plot([0, 1], [0, 1], 'k--')\r\n",
    "plt.axis([0, 1, 0, 1])\r\n",
    "plt.xlabel('False Positive Rate', fontsize=16)\r\n",
    "plt.ylabel('True Positive Rate', fontsize=16)\r\n",
    "plt.show()\r\n",
    "\r\n",
    "print(f\"Qualidade ROC-AUC do Classificador: {roc_auc_score(y_train, y_scores)}\")"
   ],
   "outputs": [],
   "metadata": {}
  },
  {
   "cell_type": "code",
   "execution_count": null,
   "source": [
    "precisions, recalls, thresholds = precision_recall_curve(y_train, y_scores)\r\n",
    "\r\n",
    "plt.plot(thresholds, precisions[:-1], \"b--\", label=\"Precision\", linewidth=2)\r\n",
    "plt.plot(thresholds, recalls[:-1], \"g-\", label=\"Recall\", linewidth=2)\r\n",
    "\r\n",
    "plt.xlabel(\"Threshold\", fontsize=16)\r\n",
    "plt.legend(loc=\"lower left\", fontsize=16)\r\n",
    "plt.show()"
   ],
   "outputs": [],
   "metadata": {}
  }
 ],
 "metadata": {
  "orig_nbformat": 4,
  "language_info": {
   "name": "python",
   "version": "3.8.3",
   "mimetype": "text/x-python",
   "codemirror_mode": {
    "name": "ipython",
    "version": 3
   },
   "pygments_lexer": "ipython3",
   "nbconvert_exporter": "python",
   "file_extension": ".py"
  },
  "kernelspec": {
   "name": "python3",
   "display_name": "Python 3.8.3 64-bit ('base': conda)"
  },
  "interpreter": {
   "hash": "b3ba2566441a7c06988d0923437866b63cedc61552a5af99d1f4fb67d367b25f"
  }
 },
 "nbformat": 4,
 "nbformat_minor": 2
}